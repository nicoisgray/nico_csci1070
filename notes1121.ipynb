{
 "cells": [
  {
   "cell_type": "markdown",
   "metadata": {},
   "source": [
    "A neural network is a machine learning algorithm designed to mimic the human brain. The number of inputs is based on the number of features in the dataset. The number of outputs depends on the number of outcomes in the data (like if someone gets approved for a loan or what grade someone gets in a class). It goes through the perceptrons, which are similar to multiple linear regression, and it goes through several layers of these perceptrons to fine-tune the outcome."
   ]
  },
  {
   "cell_type": "markdown",
   "metadata": {},
   "source": [
    "Activation functions are in every layer of a neural network. It determines whether the node/neuron should be activated to allow the data to pass on to the next layer. It does this through a mathematical equation. ReLU is one that returns the value of the input if it is positive, and returns 0 if the input is negative. A step activation function is one that sets a threshold value, and if the input is equal to or greater than the threshold, it will activate the neuron."
   ]
  },
  {
   "cell_type": "markdown",
   "metadata": {},
   "source": [
    "The loss function is what you get when you minimize the objective function, which is the function used to evaluate a candidate solution. The objective function is what your model is optimizing around when training. The value that comes out of the loss function is called the loss. Loss and loss function is used to minimize the error in the objective function."
   ]
  },
  {
   "cell_type": "markdown",
   "metadata": {},
   "source": [
    "Loss functions can be regression, binary classification, or multi-class classification. Our diabetes dataset would use a binary classification loss function because you either have diabetes or you don't. The binary classification has a sigmoid activation output layer and uses cross-entropy aka logarithmic loss."
   ]
  },
  {
   "cell_type": "markdown",
   "metadata": {},
   "source": [
    "## How do neural networks learn?\n",
    "\n",
    "They are usually used for supervised learning, so there is an answer they can tune to. Backpropagation is critical to this learning process because it provides feedback to itself."
   ]
  },
  {
   "cell_type": "markdown",
   "metadata": {},
   "source": [
    "### What is a tensor?\n",
    "\n",
    "It is a multi-dimensional array."
   ]
  }
 ],
 "metadata": {
  "kernelspec": {
   "display_name": "Python 3",
   "language": "python",
   "name": "python3"
  },
  "language_info": {
   "name": "python",
   "version": "3.10.0"
  }
 },
 "nbformat": 4,
 "nbformat_minor": 2
}
