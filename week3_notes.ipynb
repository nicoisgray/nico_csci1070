{
 "cells": [
  {
   "cell_type": "code",
   "execution_count": 3,
   "id": "4a41263a-0c02-4c24-b1cd-b8df2a62c786",
   "metadata": {},
   "outputs": [
    {
     "name": "stdout",
     "output_type": "stream",
     "text": [
      "0\n"
     ]
    }
   ],
   "source": [
    "#scope LEGB rule // intended to help functions and variables encapsulate / avoid name collision\n",
    "#local - only available to other code in this scope. a function only has access to the names defined within it or passed into it\n",
    "\n",
    "#enclosing - only exists for nested functions. inner nests can have access to the names in outer nests\n",
    "# for x in list:\n",
    "#    if x == \"a\"\n",
    "#the inner part is intended\n",
    "\n",
    "#global - available to all your code and can pass through modules, classes, etc\n",
    "#even seasoned devs mess up global stuff\n",
    "\n",
    "#built in - all names that are created by python when you run a script\n",
    "\n",
    "#python constructors are required to create a class, and a new one must be made for every new class\n",
    "#self is a default variable that contains the memory address of the code youre currently working in\n",
    "#default constructor is automatically run when you create an instance of the class\n",
    "class a_sample_class:\n",
    "    def __init__(self):\n",
    "        self.var=0\n",
    "\n",
    "#instance method for printing\n",
    "    def print_vars(self):\n",
    "        print(self.var)\n",
    "\n",
    "#create instance of class\n",
    "obj = a_sample_class()\n",
    "\n",
    "#callinstance method for value of var\n",
    "obj.print_vars()"
   ]
  },
  {
   "cell_type": "code",
   "execution_count": 5,
   "id": "db5b1bb4-4b72-42e1-968b-e6d637c5ade4",
   "metadata": {},
   "outputs": [
    {
     "name": "stdout",
     "output_type": "stream",
     "text": [
      "2\n",
      "8\n"
     ]
    }
   ],
   "source": [
    "class a_sample_class:\n",
    "    def __init__(self, one, two):\n",
    "        self.first = one\n",
    "        self.second = two\n",
    "    def print_vars(self):\n",
    "        print(self.first)\n",
    "        print(self.second)\n",
    "\n",
    "obj = a_sample_class(2,8)\n",
    "obj.print_vars()"
   ]
  },
  {
   "cell_type": "code",
   "execution_count": 7,
   "id": "7603558c-0364-46e8-b50a-83587dd6e52e",
   "metadata": {},
   "outputs": [
    {
     "name": "stdout",
     "output_type": "stream",
     "text": [
      "17\n",
      "5\n"
     ]
    },
    {
     "ename": "AttributeError",
     "evalue": "type object 'a_sample_class' has no attribute 'first'",
     "output_type": "error",
     "traceback": [
      "\u001b[1;31m---------------------------------------------------------------------------\u001b[0m",
      "\u001b[1;31mAttributeError\u001b[0m                            Traceback (most recent call last)",
      "Cell \u001b[1;32mIn[7], line 14\u001b[0m\n\u001b[0;32m     12\u001b[0m \u001b[38;5;28mprint\u001b[39m(obj\u001b[38;5;241m.\u001b[39mfirst)\n\u001b[0;32m     13\u001b[0m \u001b[38;5;28mprint\u001b[39m(obj\u001b[38;5;241m.\u001b[39mclass_attr)\n\u001b[1;32m---> 14\u001b[0m \u001b[38;5;28mprint\u001b[39m(\u001b[43ma_sample_class\u001b[49m\u001b[38;5;241;43m.\u001b[39;49m\u001b[43mfirst\u001b[49m)\n\u001b[0;32m     15\u001b[0m \u001b[38;5;28mprint\u001b[39m(a_sample_class\u001b[38;5;241m.\u001b[39mclass_attr)\n",
      "\u001b[1;31mAttributeError\u001b[0m: type object 'a_sample_class' has no attribute 'first'"
     ]
    }
   ],
   "source": [
    "class a_sample_class:\n",
    "    class_attr = 5\n",
    "    def __init__(self, one, two):\n",
    "        self.first = one\n",
    "        self.second = two\n",
    "    def print_vars(self):\n",
    "        print(self.first)\n",
    "        print(self.second)\n",
    "\n",
    "obj = a_sample_class(17,42)\n",
    "\n",
    "print(obj.first)\n",
    "print(obj.class_attr)\n",
    "print(a_sample_class.first) #this is an error because the attribute 'first' belongs to the obj, not the class / AttributeError\n",
    "print(a_sample_class.class_attr)"
   ]
  },
  {
   "cell_type": "code",
   "execution_count": 18,
   "id": "c6a59937-57b2-4353-b0a8-3d9e519f9734",
   "metadata": {},
   "outputs": [
    {
     "ename": "SyntaxError",
     "evalue": "expected ':' (558797351.py, line 16)",
     "output_type": "error",
     "traceback": [
      "\u001b[1;36m  Cell \u001b[1;32mIn[18], line 16\u001b[1;36m\u001b[0m\n\u001b[1;33m    _size='funsize')\u001b[0m\n\u001b[1;37m                    ^\u001b[0m\n\u001b[1;31mSyntaxError\u001b[0m\u001b[1;31m:\u001b[0m expected ':'\n"
     ]
    }
   ],
   "source": [
    "#three types, class methods, static methods, and instance methods\n",
    "#non static methods cannot be called without a created object\n",
    "#class method can modify class state but not obj state\n",
    "#static state is immutable/does not modify states\n",
    "#instance method modifies both class and obj states\n",
    "class Candy: #classes have capital letter names in common practice\n",
    "    #variables that start with a single underscore are reserved for internal purposes\n",
    "    #we are setting these defaults to false\n",
    "    def __init__(self, _brand,\n",
    "                _is_caramel=False,\n",
    "                _is_chocolate=False,\n",
    "                _is_vegan=False,\n",
    "                _has_nuts=False,\n",
    "                _type='chocolate',\n",
    "                _calories=200,\n",
    "                _size='funsize')\n",
    "        self.brand=_brand\n",
    "        self.is_caramel=_is_caramel\n",
    "        self.is_chocolate=_is_chocolate\n",
    "        self.is_vegan=_is_vegan\n",
    "        self.has_nuts=_has_nuts\n",
    "        self.type=_type\n",
    "        self.calories=_calories\n",
    "        self.type=_type\n",
    "#class method - used to modify the state of the class across all instances\n",
    "    @classmethod\n",
    "    def snickers(cls):\n",
    "        return cls('Mars', _is_caramel=True, _has_nuts=True)\n",
    "\n",
    "    def milkyway(cls):\n",
    "        return cls('Mars', _is_caramel=True, _is_chocolate=True)\n",
    "\n",
    "    #instance methods can access and modify both the class and instance state, printing is accessing a state\n",
    "    def display(self):\n",
    "        print(f'My favorite candy is {self.brand} {self.type}')\n",
    "\n",
    "    #static method - used for comparison or validation, commonly used in data for checking if it meets a particular condition\n",
    "    #if you wanna check the value without needing an instance\n",
    "    @staticmethod\n",
    "    def calories(size,n):\n",
    "        if size == 'large':\n",
    "            calories = 500\n",
    "        elif size == 'regular':\n",
    "            calories = 350\n",
    "        elif size == 'funsize':\n",
    "            calories = 100\n",
    "        else:\n",
    "            calories = 0\n",
    "        calories = calories*n\n",
    "        return calories"
   ]
  },
  {
   "cell_type": "code",
   "execution_count": 19,
   "id": "bcc56dbc-5db1-4a81-9a8a-ff67a8ccf5fa",
   "metadata": {},
   "outputs": [
    {
     "ename": "NameError",
     "evalue": "name 'Candy' is not defined",
     "output_type": "error",
     "traceback": [
      "\u001b[1;31m---------------------------------------------------------------------------\u001b[0m",
      "\u001b[1;31mNameError\u001b[0m                                 Traceback (most recent call last)",
      "Cell \u001b[1;32mIn[19], line 1\u001b[0m\n\u001b[1;32m----> 1\u001b[0m snickers_bar\u001b[38;5;241m=\u001b[39m\u001b[43mCandy\u001b[49m\u001b[38;5;241m.\u001b[39msnickers()\n\u001b[0;32m      2\u001b[0m snickers_bar\u001b[38;5;241m.\u001b[39mdisplay()\n",
      "\u001b[1;31mNameError\u001b[0m: name 'Candy' is not defined"
     ]
    }
   ],
   "source": [
    "snickers_bar=Candy.snickers()\n",
    "snickers_bar.display()"
   ]
  },
  {
   "cell_type": "code",
   "execution_count": 17,
   "id": "7bd7bbe0-6f15-4d8b-8310-16f540f2d572",
   "metadata": {},
   "outputs": [
    {
     "ename": "NameError",
     "evalue": "name 'Candy' is not defined",
     "output_type": "error",
     "traceback": [
      "\u001b[1;31m---------------------------------------------------------------------------\u001b[0m",
      "\u001b[1;31mNameError\u001b[0m                                 Traceback (most recent call last)",
      "Cell \u001b[1;32mIn[17], line 1\u001b[0m\n\u001b[1;32m----> 1\u001b[0m \u001b[43mCandy\u001b[49m\u001b[38;5;241m.\u001b[39mcalories(\u001b[38;5;124m'\u001b[39m\u001b[38;5;124mfunsize\u001b[39m\u001b[38;5;124m'\u001b[39m,\u001b[38;5;241m50\u001b[39m)\n",
      "\u001b[1;31mNameError\u001b[0m: name 'Candy' is not defined"
     ]
    }
   ],
   "source": [
    "Candy.calories('funsize',50)"
   ]
  },
  {
   "cell_type": "markdown",
   "id": "1445919f-dbc8-48f8-a18e-bedc3069d851",
   "metadata": {},
   "source": [
    "instance attributes and class attributes\n",
    "2 scopes for attributes\n",
    "instance attributes: a variable that belongs to a specific instance. defined inside the constructor (init) and can access from the scope of an object (local scope).\n",
    "class attribute = type of variable that belongs to the class itself, as a whole. similar to static attributes in java. both a property of a class and a property of an obj. we can mutate a class attribute to be an instance attribute."
   ]
  },
  {
   "cell_type": "raw",
   "id": "5118c1cd-58b3-4753-97a2-87d9dd34530e",
   "metadata": {},
   "source": [
    "help(obj)"
   ]
  },
  {
   "cell_type": "code",
   "execution_count": 9,
   "id": "a792a331-603b-4337-a71b-5cc64130d88e",
   "metadata": {},
   "outputs": [
    {
     "data": {
      "text/plain": [
       "['In',\n",
       " 'Out',\n",
       " '_',\n",
       " '__',\n",
       " '___',\n",
       " '__builtin__',\n",
       " '__builtins__',\n",
       " '__doc__',\n",
       " '__init__',\n",
       " '__loader__',\n",
       " '__name__',\n",
       " '__package__',\n",
       " '__session__',\n",
       " '__spec__',\n",
       " '_dh',\n",
       " '_i',\n",
       " '_i1',\n",
       " '_i2',\n",
       " '_i3',\n",
       " '_i4',\n",
       " '_i5',\n",
       " '_i6',\n",
       " '_i7',\n",
       " '_i8',\n",
       " '_i9',\n",
       " '_ih',\n",
       " '_ii',\n",
       " '_iii',\n",
       " '_oh',\n",
       " 'a_sample_class',\n",
       " 'exit',\n",
       " 'get_ipython',\n",
       " 'obj',\n",
       " 'open',\n",
       " 'print_vars',\n",
       " 'quit']"
      ]
     },
     "execution_count": 9,
     "metadata": {},
     "output_type": "execute_result"
    }
   ],
   "source": [
    "#dir = directory\n",
    "dir()"
   ]
  },
  {
   "cell_type": "code",
   "execution_count": 10,
   "id": "e6c2d778-05b1-4ee0-b6c1-2f929f8a10da",
   "metadata": {},
   "outputs": [
    {
     "data": {
      "text/plain": [
       "{'__name__': '__main__',\n",
       " '__doc__': 'Automatically created module for IPython interactive environment',\n",
       " '__package__': None,\n",
       " '__loader__': None,\n",
       " '__spec__': None,\n",
       " '__builtin__': <module 'builtins' (built-in)>,\n",
       " '__builtins__': <module 'builtins' (built-in)>,\n",
       " '_ih': ['',\n",
       "  '#scope LEGB rule // intended to help functions and variables encapsulate / avoid name collision\\n#local - only available to other code in this scope. a function only has access to the names defined within it or passed into it\\n\\n#enclosing - only exists for nested functions. inner nests can have access to the names in outer nests\\n# for x in list:\\n#    if x == \"a\"\\n#the inner part is intended\\n\\n#global - available to all your code and can pass through modules, classes, etc\\n#even seasoned devs mess up global stuff\\n\\n#built in - all names that are created by python when you run a script\\n\\n#python constructor\\n#default constructor\\ndef __init__(self):\\n    self.var=0\\n\\n#instance method for printing\\ndef print_vars(self):\\n    print(self.var)\\n\\n#create instance of class\\nobj = a_sample_class()\\n\\n#callinstance method for value of var\\nobj.print_vars()',\n",
       "  '#scope LEGB rule // intended to help functions and variables encapsulate / avoid name collision\\n#local - only available to other code in this scope. a function only has access to the names defined within it or passed into it\\n\\n#enclosing - only exists for nested functions. inner nests can have access to the names in outer nests\\n# for x in list:\\n#    if x == \"a\"\\n#the inner part is intended\\n\\n#global - available to all your code and can pass through modules, classes, etc\\n#even seasoned devs mess up global stuff\\n\\n#built in - all names that are created by python when you run a script\\n\\n#python constructors are required to create a class, and a new one must be made for every new class\\n#self is a default variable that contains the memory address of the code youre currently working in\\n#default constructor\\nclass a_sample_class:\\n    def __init__(self):\\n        self.var=0\\n\\n#instance method for printing\\n    def print_vars(self):\\n        print(self.var)\\n\\n#create instance of class\\nobj = a_sample_class()\\n\\n#callinstance method for value of var\\nobj.print_vars()',\n",
       "  '#scope LEGB rule // intended to help functions and variables encapsulate / avoid name collision\\n#local - only available to other code in this scope. a function only has access to the names defined within it or passed into it\\n\\n#enclosing - only exists for nested functions. inner nests can have access to the names in outer nests\\n# for x in list:\\n#    if x == \"a\"\\n#the inner part is intended\\n\\n#global - available to all your code and can pass through modules, classes, etc\\n#even seasoned devs mess up global stuff\\n\\n#built in - all names that are created by python when you run a script\\n\\n#python constructors are required to create a class, and a new one must be made for every new class\\n#self is a default variable that contains the memory address of the code youre currently working in\\n#default constructor is automatically run\\nclass a_sample_class:\\n    def __init__(self):\\n        self.var=0\\n\\n#instance method for printing\\n    def print_vars(self):\\n        print(self.var)\\n\\n#create instance of class\\nobj = a_sample_class()\\n\\n#callinstance method for value of var\\nobj.print_vars()',\n",
       "  'class a_sample_class:\\n    def __init__(self, one, two):\\n        self.first = one\\n        self.second = two\\n    def print_vars(self):\\n        print(self.first)\\n\\nobj = a_sample_class(2,8)\\nobj.print_vars()',\n",
       "  'class a_sample_class:\\n    def __init__(self, one, two):\\n        self.first = one\\n        self.second = two\\n    def print_vars(self):\\n        print(self.first)\\n        print(self.second)\\n\\nobj = a_sample_class(2,8)\\nobj.print_vars()',\n",
       "  'class a_sample_class:\\n    def __init__(self, one, two):\\n        self.first = one\\n        self.second = two\\n    def print_vars(self):\\n        print(self.first)\\n        print(self.second)\\n\\nobj = a_sample_class(17,42)\\n\\nprint(obj.first)\\nprint(obj.class_attr)\\nprint(a_sample_class.first)\\nprint(a_sample_class.class_attr)',\n",
       "  'class a_sample_class:\\n    class_attr = 5\\n    def __init__(self, one, two):\\n        self.first = one\\n        self.second = two\\n    def print_vars(self):\\n        print(self.first)\\n        print(self.second)\\n\\nobj = a_sample_class(17,42)\\n\\nprint(obj.first)\\nprint(obj.class_attr)\\nprint(a_sample_class.first)\\nprint(a_sample_class.class_attr)',\n",
       "  'help(obj)',\n",
       "  '#dir = directory\\ndir()',\n",
       "  'globals()'],\n",
       " '_oh': {9: ['In',\n",
       "   'Out',\n",
       "   '_',\n",
       "   '__',\n",
       "   '___',\n",
       "   '__builtin__',\n",
       "   '__builtins__',\n",
       "   '__doc__',\n",
       "   '__init__',\n",
       "   '__loader__',\n",
       "   '__name__',\n",
       "   '__package__',\n",
       "   '__session__',\n",
       "   '__spec__',\n",
       "   '_dh',\n",
       "   '_i',\n",
       "   '_i1',\n",
       "   '_i2',\n",
       "   '_i3',\n",
       "   '_i4',\n",
       "   '_i5',\n",
       "   '_i6',\n",
       "   '_i7',\n",
       "   '_i8',\n",
       "   '_i9',\n",
       "   '_ih',\n",
       "   '_ii',\n",
       "   '_iii',\n",
       "   '_oh',\n",
       "   'a_sample_class',\n",
       "   'exit',\n",
       "   'get_ipython',\n",
       "   'obj',\n",
       "   'open',\n",
       "   'print_vars',\n",
       "   'quit']},\n",
       " '_dh': [WindowsPath('C:/Users/babab/Documents/csci1070main')],\n",
       " 'In': ['',\n",
       "  '#scope LEGB rule // intended to help functions and variables encapsulate / avoid name collision\\n#local - only available to other code in this scope. a function only has access to the names defined within it or passed into it\\n\\n#enclosing - only exists for nested functions. inner nests can have access to the names in outer nests\\n# for x in list:\\n#    if x == \"a\"\\n#the inner part is intended\\n\\n#global - available to all your code and can pass through modules, classes, etc\\n#even seasoned devs mess up global stuff\\n\\n#built in - all names that are created by python when you run a script\\n\\n#python constructor\\n#default constructor\\ndef __init__(self):\\n    self.var=0\\n\\n#instance method for printing\\ndef print_vars(self):\\n    print(self.var)\\n\\n#create instance of class\\nobj = a_sample_class()\\n\\n#callinstance method for value of var\\nobj.print_vars()',\n",
       "  '#scope LEGB rule // intended to help functions and variables encapsulate / avoid name collision\\n#local - only available to other code in this scope. a function only has access to the names defined within it or passed into it\\n\\n#enclosing - only exists for nested functions. inner nests can have access to the names in outer nests\\n# for x in list:\\n#    if x == \"a\"\\n#the inner part is intended\\n\\n#global - available to all your code and can pass through modules, classes, etc\\n#even seasoned devs mess up global stuff\\n\\n#built in - all names that are created by python when you run a script\\n\\n#python constructors are required to create a class, and a new one must be made for every new class\\n#self is a default variable that contains the memory address of the code youre currently working in\\n#default constructor\\nclass a_sample_class:\\n    def __init__(self):\\n        self.var=0\\n\\n#instance method for printing\\n    def print_vars(self):\\n        print(self.var)\\n\\n#create instance of class\\nobj = a_sample_class()\\n\\n#callinstance method for value of var\\nobj.print_vars()',\n",
       "  '#scope LEGB rule // intended to help functions and variables encapsulate / avoid name collision\\n#local - only available to other code in this scope. a function only has access to the names defined within it or passed into it\\n\\n#enclosing - only exists for nested functions. inner nests can have access to the names in outer nests\\n# for x in list:\\n#    if x == \"a\"\\n#the inner part is intended\\n\\n#global - available to all your code and can pass through modules, classes, etc\\n#even seasoned devs mess up global stuff\\n\\n#built in - all names that are created by python when you run a script\\n\\n#python constructors are required to create a class, and a new one must be made for every new class\\n#self is a default variable that contains the memory address of the code youre currently working in\\n#default constructor is automatically run\\nclass a_sample_class:\\n    def __init__(self):\\n        self.var=0\\n\\n#instance method for printing\\n    def print_vars(self):\\n        print(self.var)\\n\\n#create instance of class\\nobj = a_sample_class()\\n\\n#callinstance method for value of var\\nobj.print_vars()',\n",
       "  'class a_sample_class:\\n    def __init__(self, one, two):\\n        self.first = one\\n        self.second = two\\n    def print_vars(self):\\n        print(self.first)\\n\\nobj = a_sample_class(2,8)\\nobj.print_vars()',\n",
       "  'class a_sample_class:\\n    def __init__(self, one, two):\\n        self.first = one\\n        self.second = two\\n    def print_vars(self):\\n        print(self.first)\\n        print(self.second)\\n\\nobj = a_sample_class(2,8)\\nobj.print_vars()',\n",
       "  'class a_sample_class:\\n    def __init__(self, one, two):\\n        self.first = one\\n        self.second = two\\n    def print_vars(self):\\n        print(self.first)\\n        print(self.second)\\n\\nobj = a_sample_class(17,42)\\n\\nprint(obj.first)\\nprint(obj.class_attr)\\nprint(a_sample_class.first)\\nprint(a_sample_class.class_attr)',\n",
       "  'class a_sample_class:\\n    class_attr = 5\\n    def __init__(self, one, two):\\n        self.first = one\\n        self.second = two\\n    def print_vars(self):\\n        print(self.first)\\n        print(self.second)\\n\\nobj = a_sample_class(17,42)\\n\\nprint(obj.first)\\nprint(obj.class_attr)\\nprint(a_sample_class.first)\\nprint(a_sample_class.class_attr)',\n",
       "  'help(obj)',\n",
       "  '#dir = directory\\ndir()',\n",
       "  'globals()'],\n",
       " 'Out': {9: ['In',\n",
       "   'Out',\n",
       "   '_',\n",
       "   '__',\n",
       "   '___',\n",
       "   '__builtin__',\n",
       "   '__builtins__',\n",
       "   '__doc__',\n",
       "   '__init__',\n",
       "   '__loader__',\n",
       "   '__name__',\n",
       "   '__package__',\n",
       "   '__session__',\n",
       "   '__spec__',\n",
       "   '_dh',\n",
       "   '_i',\n",
       "   '_i1',\n",
       "   '_i2',\n",
       "   '_i3',\n",
       "   '_i4',\n",
       "   '_i5',\n",
       "   '_i6',\n",
       "   '_i7',\n",
       "   '_i8',\n",
       "   '_i9',\n",
       "   '_ih',\n",
       "   '_ii',\n",
       "   '_iii',\n",
       "   '_oh',\n",
       "   'a_sample_class',\n",
       "   'exit',\n",
       "   'get_ipython',\n",
       "   'obj',\n",
       "   'open',\n",
       "   'print_vars',\n",
       "   'quit']},\n",
       " 'get_ipython': <bound method InteractiveShell.get_ipython of <ipykernel.zmqshell.ZMQInteractiveShell object at 0x000001BAB85937F0>>,\n",
       " 'exit': <IPython.core.autocall.ZMQExitAutocall at 0x1bab85e02b0>,\n",
       " 'quit': <IPython.core.autocall.ZMQExitAutocall at 0x1bab85e02b0>,\n",
       " 'open': <function io.open(file, mode='r', buffering=-1, encoding=None, errors=None, newline=None, closefd=True, opener=None)>,\n",
       " '_': ['In',\n",
       "  'Out',\n",
       "  '_',\n",
       "  '__',\n",
       "  '___',\n",
       "  '__builtin__',\n",
       "  '__builtins__',\n",
       "  '__doc__',\n",
       "  '__init__',\n",
       "  '__loader__',\n",
       "  '__name__',\n",
       "  '__package__',\n",
       "  '__session__',\n",
       "  '__spec__',\n",
       "  '_dh',\n",
       "  '_i',\n",
       "  '_i1',\n",
       "  '_i2',\n",
       "  '_i3',\n",
       "  '_i4',\n",
       "  '_i5',\n",
       "  '_i6',\n",
       "  '_i7',\n",
       "  '_i8',\n",
       "  '_i9',\n",
       "  '_ih',\n",
       "  '_ii',\n",
       "  '_iii',\n",
       "  '_oh',\n",
       "  'a_sample_class',\n",
       "  'exit',\n",
       "  'get_ipython',\n",
       "  'obj',\n",
       "  'open',\n",
       "  'print_vars',\n",
       "  'quit'],\n",
       " '__': '',\n",
       " '___': '',\n",
       " '__session__': 'C:\\\\Users\\\\babab\\\\Documents\\\\csci1070main\\\\Untitled.ipynb',\n",
       " '_i': '#dir = directory\\ndir()',\n",
       " '_ii': 'help(obj)',\n",
       " '_iii': 'class a_sample_class:\\n    class_attr = 5\\n    def __init__(self, one, two):\\n        self.first = one\\n        self.second = two\\n    def print_vars(self):\\n        print(self.first)\\n        print(self.second)\\n\\nobj = a_sample_class(17,42)\\n\\nprint(obj.first)\\nprint(obj.class_attr)\\nprint(a_sample_class.first)\\nprint(a_sample_class.class_attr)',\n",
       " '_i1': '#scope LEGB rule // intended to help functions and variables encapsulate / avoid name collision\\n#local - only available to other code in this scope. a function only has access to the names defined within it or passed into it\\n\\n#enclosing - only exists for nested functions. inner nests can have access to the names in outer nests\\n# for x in list:\\n#    if x == \"a\"\\n#the inner part is intended\\n\\n#global - available to all your code and can pass through modules, classes, etc\\n#even seasoned devs mess up global stuff\\n\\n#built in - all names that are created by python when you run a script\\n\\n#python constructor\\n#default constructor\\ndef __init__(self):\\n    self.var=0\\n\\n#instance method for printing\\ndef print_vars(self):\\n    print(self.var)\\n\\n#create instance of class\\nobj = a_sample_class()\\n\\n#callinstance method for value of var\\nobj.print_vars()',\n",
       " '__init__': <function __main__.__init__(self)>,\n",
       " 'print_vars': <function __main__.print_vars(self)>,\n",
       " '_i2': '#scope LEGB rule // intended to help functions and variables encapsulate / avoid name collision\\n#local - only available to other code in this scope. a function only has access to the names defined within it or passed into it\\n\\n#enclosing - only exists for nested functions. inner nests can have access to the names in outer nests\\n# for x in list:\\n#    if x == \"a\"\\n#the inner part is intended\\n\\n#global - available to all your code and can pass through modules, classes, etc\\n#even seasoned devs mess up global stuff\\n\\n#built in - all names that are created by python when you run a script\\n\\n#python constructors are required to create a class, and a new one must be made for every new class\\n#self is a default variable that contains the memory address of the code youre currently working in\\n#default constructor\\nclass a_sample_class:\\n    def __init__(self):\\n        self.var=0\\n\\n#instance method for printing\\n    def print_vars(self):\\n        print(self.var)\\n\\n#create instance of class\\nobj = a_sample_class()\\n\\n#callinstance method for value of var\\nobj.print_vars()',\n",
       " 'a_sample_class': __main__.a_sample_class,\n",
       " 'obj': <__main__.a_sample_class at 0x1bab9e29a50>,\n",
       " '_i3': '#scope LEGB rule // intended to help functions and variables encapsulate / avoid name collision\\n#local - only available to other code in this scope. a function only has access to the names defined within it or passed into it\\n\\n#enclosing - only exists for nested functions. inner nests can have access to the names in outer nests\\n# for x in list:\\n#    if x == \"a\"\\n#the inner part is intended\\n\\n#global - available to all your code and can pass through modules, classes, etc\\n#even seasoned devs mess up global stuff\\n\\n#built in - all names that are created by python when you run a script\\n\\n#python constructors are required to create a class, and a new one must be made for every new class\\n#self is a default variable that contains the memory address of the code youre currently working in\\n#default constructor is automatically run\\nclass a_sample_class:\\n    def __init__(self):\\n        self.var=0\\n\\n#instance method for printing\\n    def print_vars(self):\\n        print(self.var)\\n\\n#create instance of class\\nobj = a_sample_class()\\n\\n#callinstance method for value of var\\nobj.print_vars()',\n",
       " '_i4': 'class a_sample_class:\\n    def __init__(self, one, two):\\n        self.first = one\\n        self.second = two\\n    def print_vars(self):\\n        print(self.first)\\n\\nobj = a_sample_class(2,8)\\nobj.print_vars()',\n",
       " '_i5': 'class a_sample_class:\\n    def __init__(self, one, two):\\n        self.first = one\\n        self.second = two\\n    def print_vars(self):\\n        print(self.first)\\n        print(self.second)\\n\\nobj = a_sample_class(2,8)\\nobj.print_vars()',\n",
       " '_i6': 'class a_sample_class:\\n    def __init__(self, one, two):\\n        self.first = one\\n        self.second = two\\n    def print_vars(self):\\n        print(self.first)\\n        print(self.second)\\n\\nobj = a_sample_class(17,42)\\n\\nprint(obj.first)\\nprint(obj.class_attr)\\nprint(a_sample_class.first)\\nprint(a_sample_class.class_attr)',\n",
       " '_i7': 'class a_sample_class:\\n    class_attr = 5\\n    def __init__(self, one, two):\\n        self.first = one\\n        self.second = two\\n    def print_vars(self):\\n        print(self.first)\\n        print(self.second)\\n\\nobj = a_sample_class(17,42)\\n\\nprint(obj.first)\\nprint(obj.class_attr)\\nprint(a_sample_class.first)\\nprint(a_sample_class.class_attr)',\n",
       " '_i8': 'help(obj)',\n",
       " '_i9': '#dir = directory\\ndir()',\n",
       " '_9': ['In',\n",
       "  'Out',\n",
       "  '_',\n",
       "  '__',\n",
       "  '___',\n",
       "  '__builtin__',\n",
       "  '__builtins__',\n",
       "  '__doc__',\n",
       "  '__init__',\n",
       "  '__loader__',\n",
       "  '__name__',\n",
       "  '__package__',\n",
       "  '__session__',\n",
       "  '__spec__',\n",
       "  '_dh',\n",
       "  '_i',\n",
       "  '_i1',\n",
       "  '_i2',\n",
       "  '_i3',\n",
       "  '_i4',\n",
       "  '_i5',\n",
       "  '_i6',\n",
       "  '_i7',\n",
       "  '_i8',\n",
       "  '_i9',\n",
       "  '_ih',\n",
       "  '_ii',\n",
       "  '_iii',\n",
       "  '_oh',\n",
       "  'a_sample_class',\n",
       "  'exit',\n",
       "  'get_ipython',\n",
       "  'obj',\n",
       "  'open',\n",
       "  'print_vars',\n",
       "  'quit'],\n",
       " '_i10': 'globals()'}"
      ]
     },
     "execution_count": 10,
     "metadata": {},
     "output_type": "execute_result"
    }
   ],
   "source": [
    "globals()\n",
    "#returns the current module namespace (namespace == mapping between objs and current names)\n",
    "#these are defined names and info about the objs referenced in each name"
   ]
  },
  {
   "cell_type": "code",
   "execution_count": 20,
   "id": "75388dc1-328d-42b7-b95b-b5da4f576a81",
   "metadata": {},
   "outputs": [
    {
     "name": "stdout",
     "output_type": "stream",
     "text": [
      "decorator is running\n",
      "Hello there!\n",
      "still running\n"
     ]
    }
   ],
   "source": [
    "#decorators purpose is to extend behavior of a function without explicitly changing said function\n",
    "def the_decorator(func):\n",
    "    print(\"decorator is running\")\n",
    "    func()\n",
    "    print(\"still running\")\n",
    "\n",
    "def oh_hi():\n",
    "    print(\"Hello there!\")\n",
    "\n",
    "hello = the_decorator(oh_hi)"
   ]
  },
  {
   "cell_type": "code",
   "execution_count": 23,
   "id": "c6c12665-1be6-4df6-b833-64ae78c863e6",
   "metadata": {},
   "outputs": [
    {
     "name": "stdout",
     "output_type": "stream",
     "text": [
      "decorator is running\n",
      "Hello there!\n",
      "still running\n"
     ]
    }
   ],
   "source": [
    "#the previous function is the same thing as the below, except the below is more automatic and more... interesting\n",
    "def the_decorator(func):\n",
    "    print(\"decorator is running\")\n",
    "    func()\n",
    "    print(\"still running\")\n",
    "\n",
    "@the_decorator\n",
    "def oh_hi():\n",
    "    print(\"Hello there!\")"
   ]
  },
  {
   "cell_type": "code",
   "execution_count": null,
   "id": "97851abe-d7f2-4710-bbdb-ab2f0358b0e6",
   "metadata": {},
   "outputs": [],
   "source": []
  }
 ],
 "metadata": {
  "kernelspec": {
   "display_name": "Python 3 (ipykernel)",
   "language": "python",
   "name": "python3"
  },
  "language_info": {
   "codemirror_mode": {
    "name": "ipython",
    "version": 3
   },
   "file_extension": ".py",
   "mimetype": "text/x-python",
   "name": "python",
   "nbconvert_exporter": "python",
   "pygments_lexer": "ipython3",
   "version": "3.10.0"
  }
 },
 "nbformat": 4,
 "nbformat_minor": 5
}
