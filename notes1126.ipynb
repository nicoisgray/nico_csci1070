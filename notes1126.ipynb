{
 "cells": [
  {
   "cell_type": "markdown",
   "metadata": {},
   "source": [
    "# Warmup"
   ]
  },
  {
   "cell_type": "markdown",
   "metadata": {},
   "source": [
    "AI, or artificial intelligence, is any complex deep learning algorithm meant to simulate human intelligence in a computer. Neural networks are a type of AI and are crucial in the machine learning processes needed to help a computer \"learn\" for a specific task."
   ]
  },
  {
   "cell_type": "markdown",
   "metadata": {},
   "source": [
    "ChatGPT defines AI as \"the ability of machines or computers to perform tasks that typically require human intelligence. These tasks include things like learning from experience (machine learning), recognizing patterns (computer vision), understanding language (natural language processing), making decisions, and solving problems. AI systems can range from simple algorithms, like a recommendation system, to complex networks, such as self-driving cars or advanced language models.\" It goes on to explain that AI was made through a series of interconnected scientific breakthroughs, such as Turing's early computers, the increase of computing power, and the invention of rule-based computing systems."
   ]
  },
  {
   "cell_type": "markdown",
   "metadata": {},
   "source": [
    "Claude AI defines artificial intelligence as a broad field of computer science focused on creating intelligent machines to perform tasks that normally require human intelligence. It originated from Turing's machines and as time went on, simple algorithms were made to play games, and in the 80s and 90s, learning algorithms were being created similarly to the ones we have today. Claude then explains that AI is made of algorithms, data training, neural networks, and machine learning techniques."
   ]
  },
  {
   "cell_type": "markdown",
   "metadata": {},
   "source": [
    "Unlike ChatGPT, Claude proposed the idea of an Artificial Superintelligence that would surpass human intellect in all fields, and poses a reflection question to the user about what kind of AI system they would design if given the chance."
   ]
  },
  {
   "cell_type": "markdown",
   "metadata": {},
   "source": [
    "### What should you take into consideration when asking questions to ChatGPT and other AIs?\n",
    "\n",
    "First, I try every possible method to figure out a question on my own. I only use AI if I need to get another perspective, like if I need objections to an argumentative essay. Next, I always make sure that my questions are worded unambiguously. There are so many nuances to the ways that humans use language, and computers may not always grasp these nuances. I also make sure that I double-check every answer it gives me, to make sure I am receiving factual information. "
   ]
  },
  {
   "cell_type": "markdown",
   "metadata": {},
   "source": [
    "## How can you ask ChatGPT to help you with code without giving it a super broad/super narrow question?\n",
    "\n",
    "I just asked GPT to help me with one hot encoding without specifying what data set to use it on. It gave specific steps on encoding with a sample dataset it created. It also went into detail as to the principles behind one hot encoding and the reason it is used, with the pros and cons.\n",
    "\n",
    "Generally, you should look at the aspects of the question and make sure you dont have multiple parts being too specific or too broad. However, always specify the language you're coding in."
   ]
  },
  {
   "cell_type": "markdown",
   "metadata": {},
   "source": [
    "### Ethical concerns with Large Language Models\n",
    "\n",
    "My biggest personal objection is to the energy consumption used to power these machines. However, many people have made great points about copyright gray areas and the consent of the writer whose work is being sampled."
   ]
  }
 ],
 "metadata": {
  "language_info": {
   "name": "python"
  }
 },
 "nbformat": 4,
 "nbformat_minor": 2
}
