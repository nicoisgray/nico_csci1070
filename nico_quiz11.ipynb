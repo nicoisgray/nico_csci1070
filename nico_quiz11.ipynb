{
 "cells": [
  {
   "cell_type": "markdown",
   "metadata": {},
   "source": [
    "# Question 1"
   ]
  },
  {
   "cell_type": "code",
   "execution_count": 3,
   "metadata": {},
   "outputs": [
    {
     "data": {
      "text/plain": [
       "['a', 'b']"
      ]
     },
     "execution_count": 3,
     "metadata": {},
     "output_type": "execute_result"
    }
   ],
   "source": [
    "def numfilter (list):\n",
    "    new_list = []\n",
    "    for x in list:\n",
    "        if not isinstance(x, (int, float)):\n",
    "            new_list.append(x)\n",
    "    return new_list\n",
    "\n",
    "sequence = [1,2,'a','b',7.6]\n",
    "numfilter(sequence)"
   ]
  },
  {
   "cell_type": "markdown",
   "metadata": {},
   "source": [
    "# Question 2"
   ]
  },
  {
   "cell_type": "code",
   "execution_count": 17,
   "metadata": {},
   "outputs": [
    {
     "name": "stdout",
     "output_type": "stream",
     "text": [
      "1\n",
      "2\n",
      "3 fizz\n",
      "4\n",
      "5 buzz\n",
      "1\n",
      "2\n",
      "3 fizz\n",
      "4\n",
      "5 buzz\n",
      "6 fizz\n",
      "7\n",
      "8\n",
      "9 fizz\n",
      "10 buzz\n",
      "11\n",
      "12 fizz\n",
      "13\n",
      "14\n",
      "15 fizzbuzz\n"
     ]
    }
   ],
   "source": [
    "'''\n",
    "This function takes in a value and returns all values from 1 to that number.\n",
    "\n",
    "If they are divisible by 3, it returns that number and fizz\n",
    "if they are divisible by 5, it returns that number and buzz\n",
    "if they are divisible by both it returns that number and fizzbuzz.\n",
    "'''\n",
    "x = int()\n",
    "def fizzbuzzsolve (x = 5): # default argument is 5\n",
    "    for i in range(1, x+1): #x+1 makes sure it includes the x value\n",
    "        if i % 3 == 0 and i % 5 == 0:\n",
    "            print(str(i) + \" fizzbuzz\")\n",
    "        elif i % 3 == 0:\n",
    "            print(str(i) + ' fizz')\n",
    "        elif i % 5 == 0:\n",
    "            print (str(i) + ' buzz')\n",
    "        else:\n",
    "            print(i) #using print rather than return to make sure the function keeps iterating\n",
    "        \n",
    "fizzbuzzsolve()\n",
    "fizzbuzzsolve(x = 15)"
   ]
  }
 ],
 "metadata": {
  "kernelspec": {
   "display_name": "Python 3",
   "language": "python",
   "name": "python3"
  },
  "language_info": {
   "codemirror_mode": {
    "name": "ipython",
    "version": 3
   },
   "file_extension": ".py",
   "mimetype": "text/x-python",
   "name": "python",
   "nbconvert_exporter": "python",
   "pygments_lexer": "ipython3",
   "version": "3.10.0"
  }
 },
 "nbformat": 4,
 "nbformat_minor": 2
}
